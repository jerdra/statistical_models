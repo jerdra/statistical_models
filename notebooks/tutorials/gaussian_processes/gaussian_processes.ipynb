{
 "cells": [
  {
   "cell_type": "markdown",
   "metadata": {},
   "source": [
    "# A Tutorial on Noise-Free Gaussian Process Regression\n",
    "## *Theory and Practice*\n",
    "***\n",
    "\n",
    "#### By Jerry Jeyachandra [(github)](https://www.github.com/jerdra)\n",
    "##### Sourced from Rasmussen & Williams (2006)\n",
    "***"
   ]
  },
  {
   "cell_type": "markdown",
   "metadata": {},
   "source": [
    "This is a tutorial on **Gaussian Process $(\\mathcal{GP})$ Regression** in the **Noise-free** setting (observations provide perfect information) \n",
    "\n",
    "This is the context in which **Bayesian Optimization** is performed, that is, we have some underlying function that we don't have access to entirely and can only learn about by sampling points. With **Bayesian Optimization** we want to optimally select points as to learn as much as we can about the underlying function without sampling too often; each evaluation of the true objective function is expensive. \n",
    "\n",
    "**$\\mathcal{GP}$ Regression** allows us to model the model parameter space probabilistically, giving us a framework to explore our model space with some assumptions of underlying structure."
   ]
  },
  {
   "cell_type": "code",
   "execution_count": 3,
   "metadata": {},
   "outputs": [],
   "source": [
    "import matplotlib.pyplot as plt\n",
    "import seaborn as sns\n",
    "import numpy as np\n",
    "from scipy.spatial.distance import pdist, squareform #pairwise distance; convert upper triangular to square"
   ]
  },
  {
   "cell_type": "code",
   "execution_count": 31,
   "metadata": {},
   "outputs": [],
   "source": [
    "#This is the true function we want to model with our gaussian process regression \n",
    "#Yes, it's ugly, and you'd never guess from just looking at it, but that's the point\n",
    "def true_func(x):\n",
    "    return 0.1*((8*np.exp(-0.0125*x))*np.sin(x*0.25) + 0.055*x + 50*np.exp(-10/(1+0.25*x))) - 3"
   ]
  },
  {
   "cell_type": "code",
   "execution_count": 22,
   "metadata": {},
   "outputs": [
    {
     "data": {
      "image/png": "[encoded data removed]",
      "text/plain": [
       "<Figure size 720x360 with 1 Axes>"
      ]
     },
     "metadata": {
      "needs_background": "light"
     },
     "output_type": "display_data"
    }
   ],
   "source": [
    "#Generate the true underlying objective function we want to learn about\n",
    "x = np.linspace(0,150,400)\n",
    "x = x.reshape((x.shape[0],1)) #column vector of samples\n",
    "y = true_func(x)\n",
    "\n",
    "## Visualize\n",
    "fig = plt.figure(figsize=(10,5))\n",
    "ax = fig.add_subplot(111)\n",
    "ax.plot(x,y)\n",
    "ax.set_xlabel(r'$X$')\n",
    "ax.set_ylabel(r'$f(\\mathbf{x})$')\n",
    "ax.set_title('True Process')\n",
    "ax.set_xlim(0,150)\n",
    "\n",
    "plt.tight_layout()\n",
    "plt.show()"
   ]
  },
  {
   "cell_type": "markdown",
   "metadata": {},
   "source": [
    "***\n",
    "# Gaussian Processes\n",
    "\n",
    "\n",
    "$\\mathcal{GP}$ regression is a Bayesian regression technique that non-parameterically models stochastic processes. Importantly, $\\mathcal{GP}$'s model the phenomena of interest probabilistically using *distributions over functions* rather than over *parameters*. While there is some underlying duality here between the **function-space view** of $\\mathcal{GP}$ and the traditional **weight-space view** of standard bayesian regression, $\\mathcal{GP}$'s are far more flexible and elegant to work with. \n",
    "\n",
    "The main idea is to use **covariance kernel functions** in order to imbue loose beliefs (structural assumptions) about the behaviour of the data into our regression model. The beauty of the bayesian side of this model is that we can update our beliefs about the data via **Bayes Theorem** which allows us to integrate evidence (observations) as they come in. \n",
    "\n",
    "***"
   ]
  },
  {
   "cell_type": "markdown",
   "metadata": {},
   "source": [
    "### Definition\n",
    "\n",
    "Formally, a $\\mathcal{GP}$ is a collection random variables in which any finite subset have a **joint Gaussian Distribution**. This implies a property of **consistency**, in that any subset $y$ containing any finite subset of $\\mathcal{GP}$ is a multivariate gaussian variable. For example, suppose there are two subsets such that the $\\mathcal{GP}$ specifies that:\n",
    "\n",
    "$$(y_1,y_2) \\sim \\mathcal{N}(\\mathbf{0},\\Sigma)$$\n",
    "Then it must also be true that:\n",
    "$$y_1 \\sim \\mathcal{N}(\\mathbf{0},\\Sigma_{11})$$\n",
    "Where $\\Sigma_{11}$ is a block submatrix from $\\Sigma$ corresponding to $y_1$. Note that while $\\mathcal{GP}$ is technically infinite-dimensional (it's continuous!), any *finite subset is a multivariate gaussian distribution* - which is an extremely useful property!.\n",
    "\n",
    "\n",
    "### Specification of $\\mathcal{GP}$\n",
    "\n",
    "\n",
    "\n",
    "The $\\mathcal{GP}$ can be fully specified with two components, the **mean function** and the **covariance function**:\n",
    "\n",
    "$$m(\\mathbf{x}) = \\mathbb{E}\\left[ f(\\mathbf{x}) \\right]$$\n",
    "$$k(\\mathbf{x}_i,\\mathbf{x}_j) = \\mathbb{E}\\left[ (f(\\mathbf{x}_i) - m(\\mathbf{x}) ) (f(\\mathbf{x}_j) - m(\\mathbf{x}) ) \\right]$$\n",
    "\n",
    "We represent the distribution that we believe that our data is drawn from as follows:\n",
    "\n",
    "$$f(\\mathbf{x}) \\sim \\mathcal{GP}(m(\\mathbf{x}), k(\\mathbf{x}_i,\\mathbf{x}_j))$$\n",
    "\n",
    "\n",
    "Note that the function $f(\\mathbf{x})$ is drawn from a probability distribution $\\mathcal{GP}$, thus we're dealing with probabilistic functions - $\\mathcal{GP}$ is a *distribution over functions*!\n",
    "\n",
    "Since we're working within a Bayesian framework, we need to specify a prior which reflects our beliefs about the data."
   ]
  },
  {
   "cell_type": "markdown",
   "metadata": {},
   "source": [
    "## Specifying our prior\n",
    "\n",
    "### Mean Function\n",
    "\n",
    "We begin by making no assumptions about the underlying model's mean behaviour. That is to say, we start with an *uninformed prior*:\n",
    "\n",
    "$$m(\\mathbf{x}) = \\mathbf{0}$$\n",
    "\n",
    "*One could make the argument that the $\\mathbf{0}$ function is informed since we assume that our input $X$ is linearly related to our output (which it's not), but that's another discussion that's outside the scope of this tutorial...*\n",
    "\n",
    "We could be a little bit more informed if we knew something about the underlying function that we're dealing with - but in this case we have no idea since we haven't observed any data at this point. An alternative method would be to first randomly sample the data (or at regular intervals) to build a starting mean function but this will turn out to happen anyway once we start integrating observations into our uninformed prior. "
   ]
  },
  {
   "cell_type": "markdown",
   "metadata": {},
   "source": [
    "### Covariance Function\n",
    "\n",
    "The **covariance function** is where most of the *art/domain knowledge* behind $\\mathcal{GP}$ begins. The covariance function is a *statement about what you believe the function you're modelling behaves like*. In the example of noise-free observations it encodes rather simple beliefs; but in the noisy observation setting it becomes an important part of the regression model. Since we know *literally nothing* about the underlying function, we'll make a reasonable assumption that the underlying data is *smooth*. To encode this mathematically we use the **Squared Exponential Distance Function**. \n",
    "\n",
    "#### Squared Exponential Distance Function\n",
    "\n",
    "$$\\text{RBF}(\\mathbf{x}_i,\\mathbf{x}_j) = \\exp \\left( \n",
    "    -\\frac{1}{2l^2}\\|\\mathbf{x}_i - \\mathbf{x}_j \\|\n",
    "\\right)$$\n",
    "\n",
    "Where $l$ denotes the length scale constant (this is a hyper-parameter we could optimize over if we chose to).\n",
    "\n",
    "Importantly, the **Squared Distance Exponential Function** encodes *two beliefs*:\n",
    "\n",
    "The first can be mathematically expressed as the following:\n",
    "\n",
    "$$\\lim_{\\mathbf{x}_i \\to \\mathbf{x}_j} \\|f(\\mathbf{x}_i) - f(\\mathbf{x}_j) \\| \\to 0$$\n",
    "Simply put, we believe that as $\\mathbf{x}_i$ gets close to $\\mathbf{x}_j$, so too should $f(\\mathbf{x}_i)$ and $f(\\mathbf{x}_j)$. \n",
    "\n",
    "Second, the $\\exp$ has a neat property of being *infinitely differentiable*. Any function that contains this property is formally a *smooth function*, thus using $\\exp$ in our covariance function lends this property to our model.\n",
    "\n",
    "The smoothness property is a reasonable assumption in many natural phenomena; any erratically behaving function is difficult to fit since you don't have gradients to take advantage when optimizing your regression parameters\n",
    "\n",
    "***\n",
    "\n",
    "This yields our **prior function**, let's denote this hereafter as:\n",
    "\n",
    "$$\\mathbf{f} \\sim \\mathcal{GP}\\left(\\mathbf{0},k(\\mathbf{x},\\mathbf{x}^\\prime)\\right)$$\n",
    "\n",
    "$\\mathbf{f}$ is therefore our **prior**\n",
    "\n",
    "***\n",
    "\n",
    "First let's build our prior model. \n",
    "\n",
    "\n",
    "**NOTE**, when we instantiate our prior model we (because we have no choice) create an array of values. This is a *finite collection of random variables*! That means that we are now talking about a *subset* of the $\\mathcal{GP}$, and are now dealing with **multivariate gaussian distributions** which *is familiar and easy to deal with*!\n",
    "\n",
    "So technically, it would be more correct to say:\n",
    "\n",
    "$$\\mathbf{f} \\sim \\mathcal{N}\\left(\\mathbf{0},k(\\mathbf{x},\\mathbf{x}^\\prime) \\right)$$\n",
    "\n",
    "We'll use this convention moving forward, cause its true..."
   ]
  },
  {
   "cell_type": "code",
   "execution_count": 60,
   "metadata": {},
   "outputs": [],
   "source": [
    "#Define the length scale (equivalent to sigma of an RBF kernel), which is dependent on data scales\n",
    "l = 1/10**2\n",
    "\n",
    "#Define the squared exponential distance function\n",
    "def sq_exp_dist(X):\n",
    "    '''\n",
    "    Compute squared exponential distance pairwise\n",
    "    '''\n",
    "    dists = pdist(x,metric='sqeuclidean')\n",
    "    K = squareform(dists)\n",
    "    K = np.exp(-l*K)\n",
    "    return K"
   ]
  },
  {
   "cell_type": "code",
   "execution_count": 61,
   "metadata": {},
   "outputs": [],
   "source": [
    "#Specify the mean function\n",
    "m_x = np.zeros_like(x)\n",
    "\n",
    "#Compute the covariance function\n",
    "K = sq_exp_dist(x)"
   ]
  },
  {
   "cell_type": "code",
   "execution_count": 62,
   "metadata": {
    "scrolled": false
   },
   "outputs": [
    {
     "data": {
      "image/png": "[encoded data removed]",
      "text/plain": [
       "<Figure size 720x360 with 1 Axes>"
      ]
     },
     "metadata": {
      "needs_background": "light"
     },
     "output_type": "display_data"
    }
   ],
   "source": [
    "#Make figure canvas\n",
    "fig = plt.figure(figsize=(10,5))\n",
    "ax = fig.add_subplot(111)\n",
    "\n",
    "#Visualize the true model\n",
    "ax.plot(x,y,'r', label='true function')\n",
    "\n",
    "#Visualize the GP prior with 95% confidence zone\n",
    "\n",
    "#Mean function\n",
    "ax.plot(x,m_x,'k',label='prior mean function')\n",
    "\n",
    "#95% confidence interval (approx 2 stds)\n",
    "plt.fill_between(x[:,0],m_x[:,0] - 2*K.diagonal(), m_x[:,0] + 2*K.diagonal(),color='grey', alpha=0.2)\n",
    "\n",
    "#Set figure properties\n",
    "ax.set_xlabel(r'$X$')\n",
    "ax.set_ylabel(r'$f(\\mathbf{x})$')\n",
    "ax.set_title('Prior overlayed with True Model')\n",
    "ax.set_xlim(left=0,right=150)\n",
    "ax.set_ylim(bottom=-3,top=3)\n",
    "plt.tight_layout()\n",
    "plt.legend()\n",
    "plt.show()"
   ]
  },
  {
   "cell_type": "markdown",
   "metadata": {},
   "source": [
    "***\n",
    "Since $\\mathcal{GP}$ is a *distribution of functions* with some intrinsic covariance structure, we can sample the **prior function** as we would for any probability distribution. \n",
    "\n",
    "**TODO** Implement function sampling of $\\mathcal{GP}$\n",
    "\n",
    "\n",
    "***"
   ]
  },
  {
   "cell_type": "markdown",
   "metadata": {},
   "source": [
    "Now that we've specified our **prior function model**, the next step is to sample the data. Updating our $\\mathcal{GP}$ model involves the following steps:\n",
    "\n",
    "1. Sample the data\n",
    "2. Integrate evidence into our prior using Bayes theorem to compute a **posterior distribution**\n",
    "\n",
    "We'll manually perform one evaluation by sampling $\\mathbf{x}_* \\sim \\mathcal{X}$, this yields the observation \n",
    "$(\\mathbf{x_*},f(\\mathbf{x_*}))$. For cleaniness let's denote the evalution of the objective function, $f(\\mathbf{x}_*)$, as $\\mathbf{f_*}$"
   ]
  },
  {
   "cell_type": "code",
   "execution_count": 107,
   "metadata": {},
   "outputs": [
    {
     "name": "stdout",
     "output_type": "stream",
     "text": [
      "[21.42857143] [-2.33421841]\n"
     ]
    }
   ],
   "source": [
    "#Pick an index to sample from\n",
    "samp_ind = np.random.randint(0,400)\n",
    "\n",
    "#Make a new array containing learned values\n",
    "samp_fx = np.zeros_like(m_x)\n",
    "samp_x = x[samp_ind]\n",
    "samp_fx[samp_ind] = true_func(samp_x)\n",
    "print(samp_x,samp_fx[samp_ind])"
   ]
  },
  {
   "cell_type": "code",
   "execution_count": 109,
   "metadata": {},
   "outputs": [
    {
     "data": {
      "image/png": "[encoded data removed]",
      "text/plain": [
       "<Figure size 720x360 with 1 Axes>"
      ]
     },
     "metadata": {
      "needs_background": "light"
     },
     "output_type": "display_data"
    }
   ],
   "source": [
    "#Make figure canvas\n",
    "fig = plt.figure(figsize=(10,5))\n",
    "ax = fig.add_subplot(111)\n",
    "\n",
    "#Visualize the true model\n",
    "ax.plot(x,y,'r', label='true function')\n",
    "\n",
    "#Visualize the GP prior with 95% confidence zone\n",
    "\n",
    "#Mean function\n",
    "ax.plot(x,m_x,'k',label='prior mean function')\n",
    "ax.plot(samp_x,samp_fx[samp_ind],'o')\n",
    "\n",
    "#95% confidence interval (Z distribution) using diagonal of prior covariance function\n",
    "plt.fill_between(x[:,0],m_x[:,0] - 2*K.diagonal(), m_x[:,0] + 2*K.diagonal(),color='grey', alpha=0.2)\n",
    "\n",
    "#Set figure properties\n",
    "ax.set_xlabel(r'$X$')\n",
    "ax.set_ylabel(r'$f(\\mathbf{x})$')\n",
    "ax.set_title('Prior overlayed with True Model')\n",
    "ax.set_xlim(left=0,right=150)\n",
    "ax.set_ylim(bottom=-3,top=3)\n",
    "plt.tight_layout()\n",
    "plt.legend()\n",
    "plt.show()"
   ]
  },
  {
   "cell_type": "markdown",
   "metadata": {},
   "source": [
    "### Bayes Theorem\n",
    "Recall **Bayes Theorem**:\n",
    "\n",
    "$$P(\\text{model} | \\text{observations}) = \n",
    "\\frac{ P(\\text{observations} | \\text{model}) P(\\text{model}) } \n",
    "{ P(\\text{observations})}$$\n",
    "\n",
    "In the context of $\\mathcal{GP}$, we state **Bayes theorem** as follows:\n",
    "\n",
    "$$\n",
    "P(\\mathbf{f}| X,X_*,\\mathbf{f_*},) = \\frac{P(\\mathbf{f_*},X_* | X, \\mathbf{f})P(\\mathbf{f} | X)}\n",
    "{P( X_*,\\mathbf{f}_* | X)}\n",
    "$$\n",
    "\n",
    "The posterior distribution is our prior $\\mathbf{f}$ conditioned on the current data we have witnessed $(X,X_*,\\mathbf{f_*})$"
   ]
  },
  {
   "cell_type": "markdown",
   "metadata": {},
   "source": [
    "### The posterior distribution\n",
    "\n",
    "Given a new sample and our current prior, we can calculate the *joint distribution* which is simply the prior distribution (a multivariate gaussian we defined earlier) multiplied by our likelihood function (our observation conditioned on the prior):\n",
    "\n",
    "$$P(\\mathbf{f},\\mathbf{f_*},X_*,X) = P( \\mathbf{f_*},X_* | X,\\mathbf{f})P(\\mathbf{f} | X)$$\n",
    "\n",
    "The *joint distribution* is *also a gaussian distribution* in the form of:\n",
    "\n",
    "$$\n",
    "\\left[\\begin{matrix} \n",
    "\\mathbf{f} \\\\\n",
    "\\mathbf{f_*}\n",
    "\\end{matrix}\\right] = \n",
    "\\mathcal{N}\\left(\\mathbf{0}, \n",
    "\\left[\\begin{matrix}\n",
    "K(X,\\mathbf{x}_*) & K(X,\\mathbf{x}_*) \\\\\n",
    "K(\\mathbf{x}_*,X) & K(\\mathbf{x}_*,\\mathbf{x}_*)\n",
    "\\end{matrix}\\right]\\right)\n",
    "$$\n",
    "\n",
    "Where $X$ is the prior distribution samples we generated, $\\mathbf{x}_*$ is value at which we sampled $\\mathcal{X}$. \n",
    "Therefore:\n",
    "- $K(X,X) \\in \\mathbb{R}^{N, N}$ is the covariance function between all prior distrbution points (we have this)\n",
    "- $K(X,\\mathbf{x}_*) \\in \\mathbb{R}^{N, M}$ is the covariance function between the prior distribution points and the new sample\n",
    "- $K(\\mathbf{x}_*,X) \\in \\mathbb{R}^{M,N} = K(X,\\mathbf{x}_*)^T$\n",
    "- $K(\\mathbf{x}_*,\\mathbf{x}_*) \\in \\mathbb{R}^{M,M}$ is the covariance function between all new incoming points\n",
    "\n",
    "The joint covariance matrix is $\\Sigma \\in \\mathbb{R}^{M+N,M+N}$ \n",
    "***\n",
    "**NOTE**: We could've sampled multiple new values to generate $X_*$, the computation will be exactly the same except we'd use the matrix form rather than a single vector $\\mathbf{x}_*$. Hereafter we'll just call $\\mathbf{x}_*$, $X_*$ for generalizability.\n",
    "***\n",
    "\n",
    "Finally, we need to compute the **posterior distribution** which requires us to divide the joint distribution by the **marginal** which is expressed as the following:\n",
    "\n",
    "$$P(X_*,\\mathbf{f_*} | X) = \\int P(\\mathbf{f_*},X_* | X,\\mathbf{f})P(\\mathbf{f}|X)d\\mathbf{f}$$\n",
    "\n",
    "Conveniently, it turns out the **posterior distribution**, $\\mathbf{f} | X,X_*,\\mathbf{f_*}$, is *also a gaussian distribution* (gaussian $\\mathbf{f}$ conditioned on gaussian $(X,X_*,\\mathbf{f_*})$ is gaussian!) of form:\n",
    "\n",
    "$$\\mathbf{f} | X,X_*,\\mathbf{f_*} \\sim \n",
    "\\mathcal{N}(m(\\mathbf{x}) + K(X,X_*)K(X_*,X_*)^{-1}\\mathbf{f_*},\n",
    "K(X,X) - K(X,X_*)K(X_*,X_*)^{-1}K(X_*,X))$$\n",
    "\n",
    "\n",
    "The derivation of the above result is a well known exercise in bayesian statistics, numerous proofs are available all over the internet. It is *long and painful*, but it is entirely doable!\n",
    "***\n",
    "\n",
    "Anyhow, let's implement this in practice. Recall we have:\n",
    "1. a prior distribution $\\mathbf{f}$ specified by our **mean function** and **covariance function**\n",
    "2. A new observation of the form $(X_*,\\mathbf{f_*})$\n",
    "\n",
    "Our goal now is to compute our posterior distribution using the above information. To achieve this, we will implement a small variation on $\\text{Algorithm } 2.1$ by Rasmussen & Williams$^1$ (2006) below:\n",
    "\n",
    "***\n",
    "\n",
    "$^1 \\text{ Algorithm } 2.1$ computes the *predictive distribution* which is $\\mathbf{f}_* | \\mathbf{f},X,X_*$\n",
    "***"
   ]
  },
  {
   "cell_type": "markdown",
   "metadata": {},
   "source": [
    "First we compute the **posterior mean function** $\\bar{\\mathbf{f}}_*$:\n",
    "\n",
    "$$\\bar{\\mathbf{f}} = m(\\mathbf{x}) + K(X,X_*)K(X_*,X_*)^{-1}\\mathbf{f}_*$$"
   ]
  },
  {
   "cell_type": "code",
   "execution_count": null,
   "metadata": {},
   "outputs": [],
   "source": [
    "# Below is for computing predictive distributions or when dealing with the matrix inversion problem\n",
    "#with multiple test samples"
   ]
  },
  {
   "cell_type": "markdown",
   "metadata": {},
   "source": [
    "The next step is to compute the **posterior covariance function**. Note that this is given by:\n",
    "\n",
    "$$\\mathbb{V}[\\mathbf{f}] = K(X_*,X_*) - K(X_*,X)K(X,X)^{-1}K(X,X_*)$$\n",
    "\n",
    "Applying our earlier cholesky decomposition:\n",
    "$$= K(X_*,X_*) - K(X_*,X)(L^T)^{-1}L^{-1}K(X,X_*)$$\n",
    "$$= K(X_*,X_*) - \\left[L^{-1}K(X_*,X)\\right]^T\\left[L^{-1}K(X,X_*)\\right]$$\n",
    "$$= K(X_*,X_*) - \\mathbf{v}^T\\mathbf{v}$$\n",
    "\n",
    "Where $\\mathbf{v} = L^{-1}K(X,X_*)$"
   ]
  },
  {
   "cell_type": "markdown",
   "metadata": {},
   "source": [
    "Note we'll use the **cholesky decomposition** of $K(X,X)$ since matrix inversion is numerically unstable (note this implies that the covariance function should be *positive definite*). The following matrix identity is used:\n",
    "\n",
    "\n",
    "The cholesky decomposition of $K$ is defined as $K(X,X) = LL^T$. Where $L$ is a lower-triangular matrix.\n",
    "\n",
    "By the **distributive property of matrix inversion**: $K(X,X)^{-1} = (LL^T)^{-1} = (L^T)^{-1}L^{-1}$\n",
    "\n",
    "This is used to compute the **posterior mean function** $\\bar{\\mathbf{f}}_*$ using the following identity:\n",
    "\n",
    "$$\\bar{\\mathbf{f}}_* = K(X_*,X)K(X,X)^{-1}\\mathbf{f}= K(X_*,X)(L^T)^{-1}L^{-1}\\mathbf{f}$$"
   ]
  }
 ],
 "metadata": {
  "kernelspec": {
   "display_name": "Python 3",
   "language": "python",
   "name": "python3"
  },
  "language_info": {
   "codemirror_mode": {
    "name": "ipython",
    "version": 3
   },
   "file_extension": ".py",
   "mimetype": "text/x-python",
   "name": "python",
   "nbconvert_exporter": "python",
   "pygments_lexer": "ipython3",
   "version": "3.7.0"
  }
 },
 "nbformat": 4,
 "nbformat_minor": 2
}
