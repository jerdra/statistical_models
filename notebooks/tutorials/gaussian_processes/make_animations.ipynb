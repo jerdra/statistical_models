{
 "cells": [
  {
   "cell_type": "markdown",
   "metadata": {},
   "source": [
    "This notebook is used to generate the animations used in the **gaussian_processes** and **noise_gaussian_processes** notebooks. "
   ]
  },
  {
   "cell_type": "code",
   "execution_count": 1,
   "metadata": {},
   "outputs": [],
   "source": [
    "import numpy as np\n",
    "import matplotlib.pyplot as plt\n",
    "import matplotlib.animation as animation\n",
    "from matplotlib import rc\n",
    "import datetime\n",
    "%matplotlib qt5"
   ]
  },
  {
   "cell_type": "markdown",
   "metadata": {},
   "source": [
    "### Figure 1: Sampling the unknown function"
   ]
  },
  {
   "cell_type": "code",
   "execution_count": 2,
   "metadata": {},
   "outputs": [],
   "source": [
    "def true_func(x):\n",
    "    return 0.1*((8*np.exp(-0.0125*x))*np.sin(x*0.25) + 0.055*x + 50*np.exp(-10/(1+0.25*x)) -\n",
    "                0.005*(x-50)**2)  - 1.5"
   ]
  },
  {
   "cell_type": "code",
   "execution_count": 3,
   "metadata": {},
   "outputs": [],
   "source": [
    "#This is the original sampling space\n",
    "x = np.linspace(0,150,400)"
   ]
  },
  {
   "cell_type": "markdown",
   "metadata": {},
   "source": [
    "#### Basic search strategies"
   ]
  },
  {
   "cell_type": "code",
   "execution_count": 4,
   "metadata": {},
   "outputs": [],
   "source": [
    "grid_x = np.arange(0,x.shape[0],5)\n",
    "random_x = np.random.randint(0,x.shape[0],size=80) "
   ]
  },
  {
   "cell_type": "code",
   "execution_count": 5,
   "metadata": {},
   "outputs": [],
   "source": [
    "#Set pyplot parameters\n",
    "params = {'axes.labelsize' : 'large',\n",
    "         'xtick.labelsize' : 'x-large',\n",
    "         'ytick.labelsize' : 'x-large'}\n",
    "plt.rcParams.update(params)"
   ]
  },
  {
   "cell_type": "code",
   "execution_count": 13,
   "metadata": {},
   "outputs": [
    {
     "data": {
      "image/png": "[encoded data removed]",
      "text/plain": [
       "<Figure size 1080x576 with 1 Axes>"
      ]
     },
     "metadata": {
      "needs_background": "light"
     },
     "output_type": "display_data"
    }
   ],
   "source": [
    "#Select sampling strategy\n",
    "point_map = grid_x\n",
    "\n",
    "#Make canvas\n",
    "fig = plt.figure(figsize=(15,8))\n",
    "ax = fig.add_subplot(111)\n",
    "\n",
    "#Initialization\n",
    "init_arr = np.empty_like(x)\n",
    "init_arr[:] = np.nan\n",
    "\n",
    "#Make artists\n",
    "line, = ax.plot(x,init_arr,'ko',markersize=6)\n",
    "txt = ax.text(2.5,2.5,'Iteration num: 0',fontsize=16)\n",
    "txt_2 = ax.text(105,2.5, 'Time elapsed: 0', fontsize=16)\n",
    "\n",
    "def init():\n",
    "    line.set_ydata([np.nan] * x.shape[0])\n",
    "    return line,\n",
    "    \n",
    "#Iteratively plot\n",
    "def animate(i):\n",
    "    \n",
    "    #Update init_arr\n",
    "    init_arr[point_map[i]] = true_func(x[point_map[i]])\n",
    "    line.set_ydata(init_arr)\n",
    "    txt.set_text('Iteration num: {}'.format(i))\n",
    "    txt_2.set_text('Time elapsed: {}'.format(str(datetime.timedelta(seconds=i*(2*60*60)))))\n",
    "    return line,txt,txt_2\n",
    "\n",
    "\n",
    "ani = animation.FuncAnimation(fig, animate, init_func=init, blit=False,\n",
    "                             interval=100, frames=79)\n",
    "\n",
    "#Set properties\n",
    "ax.set_ylim(-3,3)\n",
    "ax.set_xlim(0,150)\n",
    "ax.set_xlabel(r'$X$',fontsize=20)\n",
    "ax.set_ylabel(r'$f(X)$', fontsize=20)\n",
    "ax.spines['right'].set_visible(False)\n",
    "ax.spines['top'].set_visible(False)\n",
    "ani.save('./figures/grid_sampling.gif',writer='imagemagick',)\n",
    "plt.show()"
   ]
  },
  {
   "cell_type": "code",
   "execution_count": null,
   "metadata": {},
   "outputs": [],
   "source": []
  }
 ],
 "metadata": {
  "kernelspec": {
   "display_name": "Python 3",
   "language": "python",
   "name": "python3"
  },
  "language_info": {
   "codemirror_mode": {
    "name": "ipython",
    "version": 3
   },
   "file_extension": ".py",
   "mimetype": "text/x-python",
   "name": "python",
   "nbconvert_exporter": "python",
   "pygments_lexer": "ipython3",
   "version": "3.7.0"
  }
 },
 "nbformat": 4,
 "nbformat_minor": 2
}
