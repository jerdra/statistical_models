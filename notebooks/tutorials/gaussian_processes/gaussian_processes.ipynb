{
 "cells": [
  {
   "cell_type": "markdown",
   "metadata": {},
   "source": [
    "# A Tutorial on Noise-Free Gaussian Process Regression\n",
    "## *Theory and Practice*\n",
    "***\n",
    "\n",
    "#### By Jerry Jeyachandra [(github)](https://www.github.com/jerdra)\n",
    "##### Sourced from Rasmussen & Williams (2006)\n",
    "***"
   ]
  },
  {
   "cell_type": "markdown",
   "metadata": {},
   "source": [
    "This is a tutorial on **Gaussian Process $(\\mathcal{GP})$ Regression** in the **Noise-free** setting (observations provide perfect information) \n",
    "\n",
    "This is the context in which **Bayesian Optimization** is performed, that is, we have some underlying function that we don't have access to entirely and can only learn about by sampling points. With **Bayesian Optimization** we want to optimally select points as to learn as much as we can about the underlying function without sampling too often; each evaluation of the true objective function is expensive. \n",
    "\n",
    "**$\\mathcal{GP}$ Regression** allows us to model the model parameter space probabilistically, giving us a framework to explore our model space with some assumptions of underlying structure."
   ]
  },
  {
   "cell_type": "code",
   "execution_count": 1,
   "metadata": {},
   "outputs": [],
   "source": [
    "import matplotlib.pyplot as plt\n",
    "import seaborn as sns\n",
    "import numpy as np\n",
    "from scipy.spatial.distance import pdist, squareform #pairwise distance; convert upper triangular to square"
   ]
  },
  {
   "cell_type": "code",
   "execution_count": 2,
   "metadata": {},
   "outputs": [],
   "source": [
    "#This is the true function we want to model with our gaussian process regression \n",
    "#Yes, it's ugly, and you'd never guess from just looking at it, but that's the point\n",
    "def true_func(x):\n",
    "    return 0.1*((8*np.exp(-0.0125*x))*np.sin(x*0.25) + 0.055*x + 50*np.exp(-10/(1+0.25*x))) - 3"
   ]
  },
  {
   "cell_type": "code",
   "execution_count": 3,
   "metadata": {
    "scrolled": false
   },
   "outputs": [
    {
     "data": {
      "image/png": "[encoded data removed]",
      "text/plain": [
       "<Figure size 720x360 with 1 Axes>"
      ]
     },
     "metadata": {
      "needs_background": "light"
     },
     "output_type": "display_data"
    }
   ],
   "source": [
    "#Generate the true underlying objective function we want to learn about\n",
    "x = np.linspace(0,150,400)\n",
    "x = x.reshape((x.shape[0],1)) #column vector of samples\n",
    "y = true_func(x)\n",
    "\n",
    "## Visualize\n",
    "fig = plt.figure(figsize=(10,5))\n",
    "ax = fig.add_subplot(111)\n",
    "ax.plot(x,y)\n",
    "ax.set_xlabel(r'$X$')\n",
    "ax.set_ylabel(r'$f(\\mathbf{x})$')\n",
    "ax.set_title('True Process')\n",
    "ax.set_xlim(0,150)\n",
    "\n",
    "plt.tight_layout()\n",
    "plt.show()"
   ]
  },
  {
   "cell_type": "markdown",
   "metadata": {},
   "source": [
    "***\n",
    "# Gaussian Processes\n",
    "\n",
    "\n",
    "$\\mathcal{GP}$ regression is a Bayesian regression technique that non-parameterically models stochastic processes. Importantly, $\\mathcal{GP}$'s model the phenomena of interest probabilistically using *distributions over functions* rather than over *parameters*. While there is some underlying duality here between the **function-space view** of $\\mathcal{GP}$ and the traditional **weight-space view** of standard bayesian regression, $\\mathcal{GP}$'s are far more flexible and elegant to work with. \n",
    "\n",
    "The main idea is to use **covariance kernel functions** in order to imbue loose beliefs (structural assumptions) about the behaviour of the data into our regression model. The beauty of the bayesian side of this model is that we can update our beliefs about the data via **Bayes Theorem** which allows us to integrate evidence (observations) as they come in. \n",
    "\n",
    "***"
   ]
  },
  {
   "cell_type": "markdown",
   "metadata": {},
   "source": [
    "### Definition\n",
    "\n",
    "Formally, a $\\mathcal{GP}$ is a collection random variables in which any finite subset have a **joint Gaussian Distribution**. This implies a property of **consistency**, in that any subset $y$ containing any finite subset of $\\mathcal{GP}$ is a multivariate gaussian variable. For example, suppose there are two subsets such that the $\\mathcal{GP}$ specifies that:\n",
    "\n",
    "$$(y_1,y_2) \\sim \\mathcal{N}(\\mathbf{0},\\Sigma)$$\n",
    "Then it must also be true that:\n",
    "$$y_1 \\sim \\mathcal{N}(\\mathbf{0},\\Sigma_{11})$$\n",
    "Where $\\Sigma_{11}$ is a block submatrix from $\\Sigma$ corresponding to $y_1$. Note that while $\\mathcal{GP}$ is technically infinite-dimensional (it's continuous!), any *finite subset is a multivariate gaussian distribution* - which is an extremely useful property!.\n",
    "\n",
    "\n",
    "### Specification of $\\mathcal{GP}$\n",
    "\n",
    "\n",
    "\n",
    "The $\\mathcal{GP}$ can be fully specified with two components, the **mean function** and the **covariance function**:\n",
    "\n",
    "$$m(\\mathbf{x}) = \\mathbb{E}\\left[ f(\\mathbf{x}) \\right]$$\n",
    "$$k(\\mathbf{x}_i,\\mathbf{x}_j) = \\mathbb{E}\\left[ (f(\\mathbf{x}_i) - m(\\mathbf{x}) ) (f(\\mathbf{x}_j) - m(\\mathbf{x}) ) \\right]$$\n",
    "\n",
    "We represent the distribution that we believe that our data is drawn from as follows:\n",
    "\n",
    "$$f(\\mathbf{x}) \\sim \\mathcal{GP}(m(\\mathbf{x}), k(\\mathbf{x}_i,\\mathbf{x}_j))$$\n",
    "\n",
    "\n",
    "Note that the function $f(\\mathbf{x})$ is drawn from a probability distribution $\\mathcal{GP}$, thus we're dealing with probabilistic functions - $\\mathcal{GP}$ is a *distribution over functions*!\n",
    "\n",
    "Since we're working within a Bayesian framework, we need to specify a prior which reflects our beliefs about the data."
   ]
  },
  {
   "cell_type": "markdown",
   "metadata": {},
   "source": [
    "## Specifying our prior\n",
    "\n",
    "### Mean Function\n",
    "\n",
    "We begin by making no assumptions about the underlying model's mean behaviour. That is to say, we start with an *uninformed prior*:\n",
    "\n",
    "$$m(\\mathbf{x}) = \\mathbf{0}$$\n",
    "\n",
    "*One could make the argument that the $\\mathbf{0}$ function is informed since we assume that our input $X$ is linearly related to our output (which it's not), but that's another discussion that's outside the scope of this tutorial...*\n",
    "\n",
    "We could be a little bit more informed if we knew something about the underlying function that we're dealing with - but in this case we have no idea since we haven't observed any data at this point. An alternative method would be to first randomly sample the data (or at regular intervals) to build a starting mean function but this will turn out to happen anyway once we start integrating observations into our uninformed prior. "
   ]
  },
  {
   "cell_type": "markdown",
   "metadata": {},
   "source": [
    "### Covariance Function\n",
    "\n",
    "The **covariance function** is where most of the *art/domain knowledge* behind $\\mathcal{GP}$ begins. The covariance function is a *statement about what you believe the function you're modelling behaves like*. In the example of noise-free observations it encodes rather simple beliefs; but in the noisy observation setting it becomes an important part of the regression model. Since we know *literally nothing* about the underlying function, we'll make a reasonable assumption that the underlying data is *smooth*. To encode this mathematically we use the **Squared Exponential Distance Function**. \n",
    "\n",
    "#### Squared Exponential Distance Function\n",
    "\n",
    "$$\\text{RBF}(\\mathbf{x}_i,\\mathbf{x}_j) = \\exp \\left( \n",
    "    -\\frac{1}{2l^2}\\|\\mathbf{x}_i - \\mathbf{x}_j \\|\n",
    "\\right)$$\n",
    "\n",
    "Where $l$ denotes the length scale constant (this is a hyper-parameter we could optimize over if we chose to).\n",
    "\n",
    "Importantly, the **Squared Distance Exponential Function** encodes *two beliefs*:\n",
    "\n",
    "The first can be mathematically expressed as the following:\n",
    "\n",
    "$$\\lim_{\\mathbf{x}_i \\to \\mathbf{x}_j} \\|f(\\mathbf{x}_i) - f(\\mathbf{x}_j) \\| \\to 0$$\n",
    "Simply put, we believe that as $\\mathbf{x}_i$ gets close to $\\mathbf{x}_j$, so too should $f(\\mathbf{x}_i)$ and $f(\\mathbf{x}_j)$. \n",
    "\n",
    "Second, the $\\exp$ has a neat property of being *infinitely differentiable*. Any function that contains this property is formally a *smooth function*, thus using $\\exp$ in our covariance function lends this property to our model.\n",
    "\n",
    "The smoothness property is a reasonable assumption in many natural phenomena; any erratically behaving function is difficult to fit since you don't have gradients to take advantage when optimizing your regression parameters\n",
    "\n",
    "***\n",
    "\n",
    "This yields our **prior function**, let's denote this hereafter as:\n",
    "\n",
    "$$\\mathbf{f} \\sim \\mathcal{GP}\\left(\\mathbf{0},k(\\mathbf{x},\\mathbf{x}^\\prime)\\right)$$\n",
    "\n",
    "$\\mathbf{f}$ is therefore our **prior**\n",
    "\n",
    "***\n",
    "\n",
    "First let's build our prior model. \n",
    "\n",
    "\n",
    "**NOTE**, when we instantiate our prior model we (because we have no choice) create an array of values. This is a *finite collection of random variables*! That means that we are now talking about a *subset* of the $\\mathcal{GP}$, and are now dealing with **multivariate gaussian distributions** which *is familiar and easy to deal with*!\n",
    "\n",
    "So technically, it would be more correct to say:\n",
    "\n",
    "$$\\mathbf{f} \\sim \\mathcal{N}\\left(\\mathbf{0},k(\\mathbf{x},\\mathbf{x}^\\prime) \\right)$$\n",
    "\n",
    "We'll use this convention moving forward, cause its true..."
   ]
  },
  {
   "cell_type": "code",
   "execution_count": 4,
   "metadata": {},
   "outputs": [],
   "source": [
    "#Define the length scale (equivalent to sigma of an RBF kernel), which is dependent on data scales\n",
    "l = 1/10**2"
   ]
  },
  {
   "cell_type": "code",
   "execution_count": 5,
   "metadata": {},
   "outputs": [],
   "source": [
    "#Specify the mean function\n",
    "m_x = np.zeros_like(x)\n",
    "\n",
    "#Compute the covariance function\n",
    "dists = pdist(x,metric='sqeuclidean')\n",
    "K = squareform(dists)\n",
    "K = np.exp(-l*K)"
   ]
  },
  {
   "cell_type": "code",
   "execution_count": 6,
   "metadata": {
    "scrolled": false
   },
   "outputs": [
    {
     "data": {
      "image/png": "[encoded data removed]",
      "text/plain": [
       "<Figure size 720x360 with 1 Axes>"
      ]
     },
     "metadata": {
      "needs_background": "light"
     },
     "output_type": "display_data"
    }
   ],
   "source": [
    "#Make figure canvas\n",
    "fig = plt.figure(figsize=(10,5))\n",
    "ax = fig.add_subplot(111)\n",
    "\n",
    "#Visualize the true model\n",
    "ax.plot(x,y,'r', label='true function')\n",
    "\n",
    "#Visualize the GP prior with 95% confidence zone\n",
    "\n",
    "#Mean function\n",
    "ax.plot(x,m_x,'k',label='prior mean function')\n",
    "\n",
    "#95% confidence interval (approx 2 stds)\n",
    "plt.fill_between(x[:,0],m_x[:,0] - 2*K.diagonal(), m_x[:,0] + 2*K.diagonal(),color='grey', alpha=0.2)\n",
    "\n",
    "#Set figure properties\n",
    "ax.set_xlabel(r'$X$')\n",
    "ax.set_ylabel(r'$f(\\mathbf{x})$')\n",
    "ax.set_title('Prior overlayed with True Model')\n",
    "ax.set_xlim(left=0,right=150)\n",
    "ax.set_ylim(bottom=-3,top=3)\n",
    "plt.tight_layout()\n",
    "plt.legend()\n",
    "plt.show()"
   ]
  },
  {
   "cell_type": "markdown",
   "metadata": {},
   "source": [
    "***\n",
    "Since $\\mathcal{GP}$ is a *distribution of functions* with some intrinsic covariance structure, we can sample the **prior function** as we would for any probability distribution. \n",
    "\n",
    "**TODO** Implement function sampling of $\\mathcal{GP}$\n",
    "\n",
    "\n",
    "***"
   ]
  },
  {
   "cell_type": "markdown",
   "metadata": {},
   "source": [
    "Now that we've specified our **prior function model**, the next step is to sample the data. Updating our $\\mathcal{GP}$ model involves the following steps:\n",
    "\n",
    "1. Sample the data\n",
    "2. Integrate evidence into our prior using Bayes theorem to compute a **posterior distribution**\n",
    "\n",
    "We'll manually perform one evaluation by sampling $\\mathbf{x}_* \\sim \\mathcal{X}$, this yields the observation \n",
    "$(\\mathbf{x_*},f(\\mathbf{x_*}))$. For cleaniness let's denote the evalution of the objective function, $f(\\mathbf{x}_*)$, as $\\mathbf{f_*}$"
   ]
  },
  {
   "cell_type": "code",
   "execution_count": 7,
   "metadata": {},
   "outputs": [
    {
     "name": "stdout",
     "output_type": "stream",
     "text": [
      "[102.63157895] [[1.111688]]\n"
     ]
    }
   ],
   "source": [
    "#Pick an index to sample from\n",
    "samp_ind = np.random.randint(0,400)\n",
    "\n",
    "#Make a new array containing learned values\n",
    "samp_x = x[samp_ind]\n",
    "samp_fx = true_func(samp_x).reshape((1,1))\n",
    "print(samp_x,samp_fx)"
   ]
  },
  {
   "cell_type": "code",
   "execution_count": 8,
   "metadata": {},
   "outputs": [
    {
     "data": {
      "image/png": "[encoded data removed]",
      "text/plain": [
       "<Figure size 720x360 with 1 Axes>"
      ]
     },
     "metadata": {
      "needs_background": "light"
     },
     "output_type": "display_data"
    }
   ],
   "source": [
    "#Make figure canvas\n",
    "fig = plt.figure(figsize=(10,5))\n",
    "ax = fig.add_subplot(111)\n",
    "\n",
    "#Visualize the true model\n",
    "ax.plot(x,y,'r', label='true function')\n",
    "\n",
    "#Visualize the GP prior with 95% confidence zone\n",
    "\n",
    "#Mean function\n",
    "ax.plot(x,m_x,'k',label='prior mean function')\n",
    "ax.plot(samp_x,samp_fx,'o')\n",
    "\n",
    "#95% confidence interval (Z distribution) using diagonal of prior covariance function\n",
    "plt.fill_between(x[:,0],m_x[:,0] - 2*K.diagonal(), m_x[:,0] + 2*K.diagonal(),color='grey', alpha=0.2)\n",
    "\n",
    "#Set figure properties\n",
    "ax.set_xlabel(r'$X$')\n",
    "ax.set_ylabel(r'$f(\\mathbf{x})$')\n",
    "ax.set_title('Prior overlayed with True Model')\n",
    "ax.set_xlim(left=0,right=150)\n",
    "ax.set_ylim(bottom=-3,top=3)\n",
    "plt.tight_layout()\n",
    "plt.legend()\n",
    "plt.show()"
   ]
  },
  {
   "cell_type": "markdown",
   "metadata": {},
   "source": [
    "### Bayes Theorem\n",
    "Recall **Bayes Theorem**:\n",
    "\n",
    "$$P(\\text{model} | \\text{observations}) = \n",
    "\\frac{ P(\\text{observations} | \\text{model}) P(\\text{model}) } \n",
    "{ P(\\text{observations})}$$\n",
    "\n",
    "In the context of $\\mathcal{GP}$, we state **Bayes theorem** as follows:\n",
    "\n",
    "$$\n",
    "P(\\mathbf{f}| X,X_*,\\mathbf{f_*},) = \\frac{P(\\mathbf{f_*},X_* | X, \\mathbf{f})P(\\mathbf{f} | X)}\n",
    "{P( X_*,\\mathbf{f}_* | X)}\n",
    "$$\n",
    "\n",
    "The posterior distribution is our prior $\\mathbf{f}$ conditioned on the current data we have witnessed $(X,X_*,\\mathbf{f_*})$"
   ]
  },
  {
   "cell_type": "markdown",
   "metadata": {},
   "source": [
    "### The posterior distribution\n",
    "\n",
    "Given a new sample and our current prior, we can calculate the *joint distribution* which is simply the prior distribution (a multivariate gaussian we defined earlier) multiplied by our likelihood function (our observation conditioned on the prior):\n",
    "\n",
    "$$P(\\mathbf{f},\\mathbf{f_*},X_*,X) = P( \\mathbf{f_*},X_* | X,\\mathbf{f})P(\\mathbf{f} | X)$$\n",
    "\n",
    "The *joint distribution* is *also a gaussian distribution* in the form of:\n",
    "\n",
    "$$\n",
    "\\left[\\begin{matrix} \n",
    "\\mathbf{f} \\\\\n",
    "\\mathbf{f_*}\n",
    "\\end{matrix}\\right] = \n",
    "\\mathcal{N}\\left(\\mathbf{0}, \n",
    "\\left[\\begin{matrix}\n",
    "K(X,\\mathbf{x}_*) & K(X,\\mathbf{x}_*) \\\\\n",
    "K(\\mathbf{x}_*,X) & K(\\mathbf{x}_*,\\mathbf{x}_*)\n",
    "\\end{matrix}\\right]\\right)\n",
    "$$\n",
    "\n",
    "Where $X$ is the prior distribution samples we generated, $\\mathbf{x}_*$ is value at which we sampled $\\mathcal{X}$. \n",
    "Therefore:\n",
    "- $K(X,X) \\in \\mathbb{R}^{N, N}$ is the covariance function between all prior distrbution points (we have this)\n",
    "- $K(X,\\mathbf{x}_*) \\in \\mathbb{R}^{N, M}$ is the covariance function between the prior distribution points and the new sample\n",
    "- $K(\\mathbf{x}_*,X) \\in \\mathbb{R}^{M,N} = K(X,\\mathbf{x}_*)^T$\n",
    "- $K(\\mathbf{x}_*,\\mathbf{x}_*) \\in \\mathbb{R}^{M,M}$ is the covariance function between all new incoming points\n",
    "\n",
    "The joint covariance matrix is $\\Sigma \\in \\mathbb{R}^{M+N,M+N}$ \n",
    "***\n",
    "**NOTE**: We could've sampled multiple new values to generate $X_*$, the computation will be exactly the same except we'd use the matrix form rather than a single vector $\\mathbf{x}_*$. Hereafter we'll just call $\\mathbf{x}_*$, $X_*$ for generalizability.\n",
    "***\n",
    "\n",
    "Finally, we need to compute the **posterior distribution** which requires us to divide the joint distribution by the **marginal** which is expressed as the following:\n",
    "\n",
    "$$P(X_*,\\mathbf{f_*} | X) = \\int P(\\mathbf{f_*},X_* | X,\\mathbf{f})P(\\mathbf{f}|X)d\\mathbf{f}$$\n",
    "\n",
    "Conveniently, it turns out the **posterior distribution**, $\\mathbf{f} | X,X_*,\\mathbf{f_*}$, is *also a gaussian distribution* (gaussian $\\mathbf{f}$ conditioned on gaussian $(X,X_*,\\mathbf{f_*})$ is gaussian!) of form:\n",
    "\n",
    "$$\\mathbf{f} | X,X_*,\\mathbf{f_*} \\sim \n",
    "\\mathcal{N}(m(\\mathbf{x}) + K(X,X_*)K(X_*,X_*)^{-1}\\mathbf{f_*},\n",
    "K(X,X) - K(X,X_*)K(X_*,X_*)^{-1}K(X_*,X))$$\n",
    "\n",
    "\n",
    "The derivation of the above result is a well known exercise in bayesian statistics, numerous proofs are available all over the internet. It is *long and painful*, but it is entirely doable!\n",
    "***\n",
    "\n",
    "Anyhow, let's implement this in practice. Recall we have:\n",
    "1. a prior distribution $\\mathbf{f}$ specified by our **mean function** and **covariance function**\n",
    "2. A new observation of the form $(X_*,\\mathbf{f_*})$\n",
    "\n",
    "Our goal now is to compute our posterior distribution using the above information. To achieve this, we will implement a small variation on $\\text{Algorithm } 2.1$ by Rasmussen & Williams$^1$ (2006) below:\n",
    "\n",
    "***\n",
    "\n",
    "$^1 \\text{ Algorithm } 2.1$ computes the *predictive distribution* which is $\\mathbf{f}_* | \\mathbf{f},X,X_*$, we want to compute the *posterior distribution* which is slightly different: $\\mathbf{f} | X,X_*,\\mathbf{f_*}$\n",
    "***"
   ]
  },
  {
   "cell_type": "markdown",
   "metadata": {},
   "source": [
    "First we compute the **posterior mean function** $\\bar{\\mathbf{f}}$:\n",
    "\n",
    "$$\\bar{\\mathbf{f}} = m(\\mathbf{x}) + K(X,X_*)K(X_*,X_*)^{-1}\\mathbf{f}_*$$\n",
    "\n",
    "Here's a helpful set of equations to explain the dimensionality of the input data:\n",
    "$$\\mathbb{R}^{N,1} = \\mathbb{R}^{N,1} + \\mathbb{R}^{N,M}\\left[\\mathbb{R}^{M,M}\\mathbb{R}^{M,1}\\right]$$\n",
    "$$ = \\mathbb{R}^{N,1} + \\left[\\mathbb{R}^{N,M}\\mathbb{R}^{M,1}\\right]$$\n",
    "$$ = \\mathbb{R}^{N,1} + \\mathbb{R}^{N,1}$$"
   ]
  },
  {
   "cell_type": "code",
   "execution_count": 9,
   "metadata": {},
   "outputs": [],
   "source": [
    "#Compute joint covariance matrix off-diagonals\n",
    "k_x_xs = np.exp(-l * (x - samp_x)**2)\n",
    "k_xs_x = k_x_xs.T\n",
    "\n",
    "#Compute test covariance matrix (in the case of 1 sample it is always 1)\n",
    "k_xs_xs = np.array([1.0]).reshape((1,1))\n",
    "\n",
    "#Compute the posterior mean\n",
    "bar_f = m_x + k_x_xs @ k_xs_xs @ samp_fx"
   ]
  },
  {
   "cell_type": "markdown",
   "metadata": {},
   "source": [
    "The next step is to compute the **posterior covariance function**. Note that this is given by:\n",
    "\n",
    "$$\\mathbb{V}[\\mathbf{f}] = K(X,X) - K(X,X_*)K(X_*,X_*)^{-1}K(X_*,X)$$\n",
    "\n",
    "Again, we'll show the dimensionality equations:\n",
    "\n",
    "$$\\mathbb{R}^{N,N} = \\mathbb{R}^{N,N} - \\mathbb{R}^{N,M}\\left[\\mathbb{R}^{M,M}\\mathbb{R}^{M,N}\\right]$$\n",
    "$$ = \\mathbb{R}^{N,N} - \\left[\\mathbb{R}^{N,M}\\mathbb{R}^{M,N}\\right]$$\n",
    "$$ = \\mathbb{R}^{N,N} - \\mathbb{R}^{N,N} $$"
   ]
  },
  {
   "cell_type": "code",
   "execution_count": 10,
   "metadata": {},
   "outputs": [],
   "source": [
    "#Compute the posterior variance\n",
    "var_f = K - k_x_xs @ np.linalg.pinv(k_xs_xs) @ k_xs_x"
   ]
  },
  {
   "cell_type": "markdown",
   "metadata": {},
   "source": [
    "Let's visualize how our estimate of the true underlying distribution changes when we observe a sample!"
   ]
  },
  {
   "cell_type": "code",
   "execution_count": 11,
   "metadata": {},
   "outputs": [
    {
     "data": {
      "image/png": "[encoded data removed]",
      "text/plain": [
       "<Figure size 720x360 with 1 Axes>"
      ]
     },
     "metadata": {
      "needs_background": "light"
     },
     "output_type": "display_data"
    }
   ],
   "source": [
    "#Now we'll visualize the posterior predictive distribution\n",
    "#Make figure canvas\n",
    "fig = plt.figure(figsize=(10,5))\n",
    "ax = fig.add_subplot(111)\n",
    "\n",
    "#Visualize the true model\n",
    "ax.plot(x,y,'r', label='true function')\n",
    "\n",
    "#Visualize the GP prior with 95% confidence zone\n",
    "\n",
    "#Prior mean function\n",
    "ax.plot(x,m_x,'k--',label='prior mean function')\n",
    "ax.plot(samp_x,samp_fx,'o')\n",
    "\n",
    "#Posterior Mean function\n",
    "ax.plot(x,bar_f,'k', label='posterior mean function')\n",
    "\n",
    "#95% confidence interval (Z distribution) using diagonal of prior covariance function\n",
    "plt.fill_between(x[:,0],bar_f[:,0] - 2*var_f.diagonal(), bar_f[:,0] + 2*var_f.diagonal(),color='grey', alpha=0.2)\n",
    "\n",
    "#Set figure properties\n",
    "ax.set_xlabel(r'$X$')\n",
    "ax.set_ylabel(r'$f(\\mathbf{x})$')\n",
    "ax.set_title('Prior overlayed with True Model')\n",
    "ax.set_xlim(left=0,right=150)\n",
    "ax.set_ylim(bottom=-3,top=3)\n",
    "plt.tight_layout()\n",
    "plt.legend()\n",
    "plt.show()"
   ]
  },
  {
   "cell_type": "markdown",
   "metadata": {},
   "source": [
    "The beautiful thing about bayesian statistics is that our *posterior distribution becomes the prior* for our next iteration. In fact we can keep iterating and over time we'll be able to pretty accurately approximate the underlying distribution confidently. Below, we wrap everything we did earlier in convenient functions in order to visualize the entire iterative sampling process"
   ]
  },
  {
   "cell_type": "code",
   "execution_count": null,
   "metadata": {},
   "outputs": [],
   "source": [
    "def true_func(x):\n",
    "    return 0.1*((8*np.exp(-0.0125*x))*np.sin(x*0.25) + 0.055*x + 50*np.exp(-10/(1+0.25*x))) - 3"
   ]
  },
  {
   "cell_type": "code",
   "execution_count": null,
   "metadata": {},
   "outputs": [],
   "source": [
    "def sq_exp_dist(x,l=1.0):\n",
    "    '''\n",
    "    Compute squared exponential distance pairwise\n",
    "    l is the characteristic length scale hyperparameter\n",
    "    '''\n",
    "    dists = pdist(x,metric='sqeuclidean')\n",
    "    K = squareform(dists)\n",
    "    K = np.exp(-l*K)\n",
    "    return K"
   ]
  },
  {
   "cell_type": "code",
   "execution_count": null,
   "metadata": {},
   "outputs": [],
   "source": [
    "def pick_sample(x):\n",
    "    '''\n",
    "    Draw a sample from the input domain x\n",
    "    '''\n",
    "    \n",
    "    samp_ind = np.random.randint(0,400)\n",
    "    x_s = x[samp_ind]\n",
    "    f_s = true_func(x_s).reshape((1,1))\n",
    "    return x_s, f_s"
   ]
  },
  {
   "cell_type": "code",
   "execution_count": null,
   "metadata": {},
   "outputs": [],
   "source": [
    "def compute_posterior(x,x_s,f,f_s,K,l):\n",
    "    '''\n",
    "    Compute posterior distribution \n",
    "    x   -- input domain [N,1]\n",
    "    x_s -- sample [M,M]\n",
    "    f   -- prior mean function [N,1]\n",
    "    f_s -- evaluated true function at sample x_s\n",
    "    K   -- prior covariance matrix\n",
    "    l   -- characteristic length scale hyperparameter\n",
    "    '''\n",
    "    \n",
    "    #Compute joint covariance matrix components\n",
    "    K_x_xs = np.exp(-l * (x - x_s)**2)\n",
    "    K_xs_x = K_x_xs.T\n",
    "    K_xs_xs = np.array([1.0]).reshape((1,1))\n",
    "    \n",
    "    #Compute posterior distribution\n",
    "    bar_f = f + K_x_xs @ K_xs_xs @ f_s\n",
    "    var_f = K - K_x_xs @ np.linalg.pinv(K_xs_xs) @ K_xs_x\n",
    "    \n",
    "    return bar_f,var_f"
   ]
  },
  {
   "cell_type": "code",
   "execution_count": null,
   "metadata": {},
   "outputs": [],
   "source": [
    "def visualize_gp(ax,x,f,K):\n",
    "    '''\n",
    "    Plot gaussian process using 2*std as uncertainty patch\n",
    "    '''\n",
    "    \n",
    "    #Clear axes\n",
    "    ax.clear() \n",
    "    \n",
    "    #Plot mean func\n",
    "    ax.plot(x,f)\n",
    "    \n",
    "    #Plot uncertainty estimate\n",
    "    ax.fill_between(x[:,0],f[:,0] - 2*K.diagonal(), f[:,0] + 2*K.diagonal(), color='grey', alpha=0.2)\n",
    "    \n",
    "    return ax\n",
    "    "
   ]
  },
  {
   "cell_type": "code",
   "execution_count": null,
   "metadata": {},
   "outputs": [],
   "source": [
    "#Starting from scratch, define our domain, prior mean and covariance\n",
    "num_x = 400\n",
    "x = np.linspace(0,150,num_x).reshape((num_x,1))\n",
    "f = np.zeros((400,1),dtype=np.float64)\n",
    "K = sq_exp_dist(x,l)"
   ]
  },
  {
   "cell_type": "code",
   "execution_count": null,
   "metadata": {},
   "outputs": [],
   "source": [
    "#Set up base figure properties\n",
    "plt.ion()\n",
    "fig = plt.figure(figsize=(10,5))\n",
    "ax = fig.add_subplot(111)\n",
    "ax.set_xlabel(r'$X$')\n",
    "ax.set_ylabel(r'$f(\\mathbf{x})$')\n",
    "ax.set_title(r'Noise-free $\\mathcal{GP}$')\n",
    "ax.set_xlim(0,150)\n",
    "ax.set_ylim(-3,3)\n",
    "\n",
    "#Keep track of which x we've already sampled for two reasons:\n",
    "#1 : Since we're dealing with noise-less case, there's no point of sampling the same point twice\n",
    "\n",
    "#2 : With the noise-less case the variance of the sampled point is 0. \n",
    "#    thus computing the posterior variance which requires inversion of K_xs_xs will fail spectacularly\n",
    "#    so you couldn't do it anyway..\n",
    "sampled_x = []\n",
    "\n",
    "#Pick our initial sample\n",
    "x_s, f_s = pick_sample(x)\n",
    "for i in np.arange(0,num_x):\n",
    "    \n",
    "    #Guarantee that we'll pick a new sample\n",
    "    while x_s in sampled_x:\n",
    "        x_s, f_s = pick_sample(x)\n",
    "        \n",
    "    #Compute posterior\n",
    "    bar_f, var_f = compute_posterior(x,x_s,f,f_s,K,l)\n",
    "    \n",
    "    #Add sample to our list of already sampled points\n",
    "    sampled_x.append(x_s)\n",
    "    \n",
    "    #Visualize\n",
    "    visualize_gp(ax,x,bar_f,var_f)\n",
    "    \n",
    "    #Posterior is the new prior\n",
    "    f, K = bar_f, var_f\n",
    "    break"
   ]
  },
  {
   "cell_type": "markdown",
   "metadata": {},
   "source": [
    "### Important Consideration\n",
    "Notice that at first we approximate the final solution relatively well, but as more data points are added our *approximation gets worse*. This isn't to say that $\\mathcal{GP}$ regression itself is failing, but instead that the covariance matrix approaches 0 and we run into numerical problems. This can be solved via a few methods:\n",
    "\n",
    "1. Adding noise to the covariance matrix diagonal so it becomes well-conditioned\n",
    "2. Perform a low rank approximation of the $\\mathcal{GP}$ "
   ]
  }
 ],
 "metadata": {
  "kernelspec": {
   "display_name": "Python 3",
   "language": "python",
   "name": "python3"
  },
  "language_info": {
   "codemirror_mode": {
    "name": "ipython",
    "version": 3
   },
   "file_extension": ".py",
   "mimetype": "text/x-python",
   "name": "python",
   "nbconvert_exporter": "python",
   "pygments_lexer": "ipython3",
   "version": "3.7.0"
  }
 },
 "nbformat": 4,
 "nbformat_minor": 2
}
