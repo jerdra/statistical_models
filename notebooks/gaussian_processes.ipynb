{
 "cells": [
  {
   "cell_type": "markdown",
   "metadata": {},
   "source": [
    "# A Tutorial on Noise-Free Gaussian Process Regression\n",
    "## *Theory and Practice*\n",
    "***\n",
    "\n",
    "#### By Jerry Jeyachandra [(github)](https://www.github.com/jerdra)\n",
    "##### Sourced from Rasmussen & Williams (2006)\n",
    "***"
   ]
  },
  {
   "cell_type": "markdown",
   "metadata": {},
   "source": [
    "This is a tutorial on **Gaussian Process $(\\mathcal{GP})$ Regression** in the **Noise-free** setting. \n",
    "\n",
    "This is the context in which **Bayesian Optimization** is performed, that is, we have some underlying function that we don't have access to entirely and can only learn about by sampling points. With **Bayesian Optimization** we want to optimally select points as to learn as much as we can about the underlying function without sampling too often; each evaluation of the true objective function is expensive. \n",
    "\n",
    "**$\\mathcal{GP}$ Regression** allows us to model the model parameter space probabilistically, giving us a framework to explore our model space with some assumptions of underlying structure."
   ]
  },
  {
   "cell_type": "code",
   "execution_count": 165,
   "metadata": {},
   "outputs": [],
   "source": [
    "import matplotlib.pyplot as plt\n",
    "import seaborn as sns\n",
    "import numpy as np\n",
    "from scipy.spatial.distance import pdist, squareform #pairwise distance; convert upper triangular to square"
   ]
  },
  {
   "cell_type": "code",
   "execution_count": 173,
   "metadata": {},
   "outputs": [],
   "source": [
    "#This is the true function we want to estimate with our gaussian process regression \n",
    "#Yes, it's ugly, and you'd never guess from just looking at it, but that's the point..\n",
    "def true_func(x):\n",
    "    return 0.1*((8*np.exp(-0.0125*x))*np.sin(x*0.25) + 0.055*x + 50*np.exp(-10/(1+0.25*x))) - 3"
   ]
  },
  {
   "cell_type": "code",
   "execution_count": 179,
   "metadata": {},
   "outputs": [
    {
     "data": {
      "image/png": "[encoded data removed]",
      "text/plain": [
       "<Figure size 720x360 with 1 Axes>"
      ]
     },
     "metadata": {
      "needs_background": "light"
     },
     "output_type": "display_data"
    }
   ],
   "source": [
    "#Generate the true underlying objective function we want to learn about\n",
    "x = np.linspace(0,150,400)\n",
    "x = x.reshape((x.shape[0],1)) #column vector of samples\n",
    "y = true_func(x)\n",
    "\n",
    "## Visualize\n",
    "fig = plt.figure(figsize=(10,5))\n",
    "ax = fig.add_subplot(111)\n",
    "ax.plot(x,y)\n",
    "ax.set_xlabel(r'$X$')\n",
    "ax.set_ylabel(r'$f(\\mathbf{x})$')\n",
    "ax.set_title('True model')\n",
    "ax.set_xlim(0,150)\n",
    "\n",
    "plt.tight_layout()\n",
    "plt.show()"
   ]
  },
  {
   "cell_type": "markdown",
   "metadata": {},
   "source": [
    "***\n",
    "# Gaussian Processes\n",
    "\n",
    "\n",
    "$\\mathcal{GP}$ regression is a Bayesian regression technique that non-parameterically models stochastic processes. Importantly, $\\mathcal{GP}$'s model the phenomena of interest probabilistically using *distributions over functions* rather than over *parameters*. While there is some underlying duality here between the **function-space view** of $\\mathcal{GP}$ and the traditional **weight-space view** of standard bayesian regression, $\\mathcal{GP}$'s are far more flexible and elegant to work with. \n",
    "\n",
    "The main idea is to use **covariance kernel functions** in order to imbue loose beliefs (structural assumptions) about the behaviour of the data into our regression model. The beauty of the bayesian side of this model is that we can update our beliefs about the data via **Bayes Theorem** which allows us to integrate evidence (observations) as they come in. \n",
    "\n",
    "***"
   ]
  },
  {
   "cell_type": "markdown",
   "metadata": {},
   "source": [
    "### Definition\n",
    "\n",
    "Formally, a $\\mathcal{GP}$, is a collection random variables in which any finite subset have a **joint Gaussian Distribution**. This implies a property of **consistency**, in that any subset $y$ containing any finite subset of $\\mathcal{GP}$ is a multivariate gaussian variable. For example, suppose there are two subsets such that the $\\mathcal{GP}$ specifies that:\n",
    "\n",
    "$$(y_1,y_2) \\sim \\mathcal{N}(\\mathbf{0},\\Sigma)$$\n",
    "Then it must also be true that:\n",
    "$$y_1 \\sim \\mathcal{N}(\\mathbf{0},\\Sigma_{11})$$\n",
    "Where $\\Sigma_{11}$ is a block submatrix from $\\Sigma$ corresponding to $y_1$. Note that the $\\mathcal{GP}$ is technically infinite-dimensional (it's continuous!), any *finite subset is a multivariate gaussian distribution* - which is an extremely useful property!.\n",
    "\n",
    "\n",
    "### Specification of $\\mathcal{GP}$\n",
    "\n",
    "\n",
    "\n",
    "The $\\mathcal{GP}$ can be fully specified with two components, the **mean function** and the **covariance function**:\n",
    "\n",
    "$$m(\\mathbf{x}) = \\mathbb{E}\\left[ f(\\mathbf{x}) \\right]$$\n",
    "$$k(\\mathbf{x}_i,\\mathbf{x}_j) = \\mathbb{E}\\left[ (f(\\mathbf{x}_i) - m(\\mathbf{x}) ) (f(\\mathbf{x}_j) - m(\\mathbf{x}) ) \\right]$$\n",
    "\n",
    "We represent the distribution that we believe that our data is drawn from as follows:\n",
    "\n",
    "$$f(\\mathbf{x}) \\sim \\mathcal{GP}(m(\\mathbf{x}), k(\\mathbf{x}_i,\\mathbf{x}_j))$$\n",
    "\n",
    "\n",
    "Note that the function $f(\\mathbf{x})$ is drawn from a probability distribution $\\mathcal{GP}$, thus we're dealing with probabilistic functions - $\\mathcal{GP}$ is a *distribution over functions*!\n",
    "\n",
    "Since we're working within a Bayesian framework, we need to specify a prior which reflects our beliefs about the data."
   ]
  },
  {
   "cell_type": "markdown",
   "metadata": {},
   "source": [
    "## Specifying our prior\n",
    "\n",
    "### Mean Function\n",
    "\n",
    "We begin by making no assumptions about the underlying model. That is to say, we start with an *uninformed prior*:\n",
    "\n",
    "$$m(\\mathbf{x}) = \\mathbf{0}$$\n",
    "\n",
    "*One could make the argument that the $\\mathbf{0}$ function is informed since we assume that our input $X$ is linearly related to our output, but that's another discussion that's outside the scope of this tutorial...*\n",
    "\n",
    "We could be a little bit more informed if we knew something about the underlying function that we're dealing with - but in this case we have no idea since we haven't observed any data at this point. An alternative method would be to first randomly sample the data (or at regular intervals) to build a starting mean function but this will turn out to happen anyway once we start integrating observations into our uninformed prior. "
   ]
  },
  {
   "cell_type": "markdown",
   "metadata": {},
   "source": [
    "### Covariance Function\n",
    "\n",
    "The **covariance function** is where most of the *art/domain knowledge* behind $\\mathcal{GP}$ begins. The covariance function is a *statement about what you believe the function you're modelling behaves like*. In the example of noise-free observations it encodes rather simple beliefs; but in the noisy observation setting it becomes an important part of the regression model. Since we know literally nothing about the underlying function, we'll make a reasonable assumption that the underlying data is *smooth*. To encode this mathematically we use the **Squared Exponential Distance Function**. \n",
    "\n",
    "#### Squared Exponential Distance Function\n",
    "\n",
    "$$\\text{RBF}(\\mathbf{x}_i,\\mathbf{x}_j) = \\exp \\left( \n",
    "    -\\frac{1}{2}\\|\\mathbf{x}_i - \\mathbf{x}_j \\|\n",
    "\\right)$$\n",
    "\n",
    "The **Squared Distance Exponential Function** encodes *two beliefs*:\n",
    "\n",
    "The first can be mathematically expressed as the following:\n",
    "\n",
    "$$\\lim_{\\mathbf{x}_i \\to \\mathbf{x}_j} \\|f(\\mathbf{x}_i) - f(\\mathbf{x}_j) \\| \\to 0$$\n",
    "Simply put, we believe that as $\\mathbf{x}_i$ gets close to $\\mathbf{x}_j$, so too should $f(\\mathbf{x}_i)$ and $f(\\mathbf{x}_j)$. \n",
    "\n",
    "Second, the $\\exp$ has a neat property of being *infinitely differentiable*. Any function that contains this property is defined as being *smooth*, thus using $\\exp$ in our covariance function lends this property to our model.\n",
    "\n",
    "The smoothness property is a reasonable assumption in many natural phenomena and thus is a reasonable assumption; any erratically behaving function is difficult to fit since you don't have gradients to take advantage when optimizing your regression parameters\n",
    "\n",
    "***\n",
    "\n",
    "This yields our **prior function**, let's denote this hereafter as:\n",
    "\n",
    "$$\\mathbf{f} \\sim \\mathcal{GP}\\left(\\mathbf{0},k(\\mathbf{x},\\mathbf{x}^\\prime)\\right)$$\n",
    "\n",
    "$\\mathbf{f}$ is therefore our **prior**\n",
    "\n",
    "***\n",
    "\n",
    "First let's build our prior model. \n",
    "\n",
    "\n",
    "**NOTE**, when we instantiate our prior model we (because we have no choice) create an array of values. This is a *finite collection of random variables*! That means that we are now talking about a *subset* of the $\\mathcal{GP}$, and are now dealing with **multivariate gaussian distributions** which is *is familiar and easy to deal with*!\n",
    "\n",
    "So technically, it would be more correct to say:\n",
    "\n",
    "$$\\mathbf{f} \\sim \\mathcal{N}\\left(\\mathbf{0},k(\\mathbf{x},\\mathbf{x}^\\prime) \\right)$$\n",
    "\n",
    "We'll use this convention moving forward, cause its true..."
   ]
  },
  {
   "cell_type": "code",
   "execution_count": 180,
   "metadata": {},
   "outputs": [],
   "source": [
    "#Define GP squared exponential distance covariance function\n",
    "def sq_exp_dist(X):\n",
    "    '''\n",
    "    Compute squared exponential distance pairwise\n",
    "    '''\n",
    "    dists = pdist(x,metric='sqeuclidean')\n",
    "    K = squareform(dists)\n",
    "    K = np.exp(-0.5*K)\n",
    "    return K"
   ]
  },
  {
   "cell_type": "code",
   "execution_count": 181,
   "metadata": {},
   "outputs": [],
   "source": [
    "#Specify the mean function\n",
    "m_x = np.zeros_like(x)\n",
    "\n",
    "#Compute the covariance function\n",
    "K = sq_exp_dist(x)"
   ]
  },
  {
   "cell_type": "code",
   "execution_count": 183,
   "metadata": {},
   "outputs": [
    {
     "data": {
      "image/png": "[encoded data removed]",
      "text/plain": [
       "<Figure size 720x360 with 1 Axes>"
      ]
     },
     "metadata": {
      "needs_background": "light"
     },
     "output_type": "display_data"
    }
   ],
   "source": [
    "#Make figure canvas\n",
    "fig = plt.figure(figsize=(10,5))\n",
    "ax = fig.add_subplot(111)\n",
    "\n",
    "#Visualize the true model\n",
    "ax.plot(x,y,'r', label='true function')\n",
    "\n",
    "#Visualize the GP prior with 95% confidence zone\n",
    "\n",
    "#Mean function\n",
    "ax.plot(x,m_x,'k',label='prior mean function')\n",
    "\n",
    "#95% confidence interval (Z distribution) using diagonal of prior covariance function\n",
    "plt.fill_between(x[:,0],m_x[:,0] - 1.96, m_x[:,0] + 1.96,color='grey', alpha=0.2)\n",
    "\n",
    "#Set figure properties\n",
    "ax.set_xlabel(r'$X$')\n",
    "ax.set_ylabel(r'$f(\\mathbf{x})$')\n",
    "ax.set_title('Prior overlayed with True Model')\n",
    "ax.set_xlim(left=0,right=150)\n",
    "ax.set_ylim(bottom=-3,top=3)\n",
    "plt.tight_layout()\n",
    "plt.legend()\n",
    "plt.show()"
   ]
  },
  {
   "cell_type": "markdown",
   "metadata": {},
   "source": [
    "Since $\\mathcal{GP}$ is a *distribution of functions* with some intrinsic covariance structure, we can sample the **prior function** as we would for any probability distribution. \n",
    "\n",
    "**TODO** Implement function sampling of $\\mathcal{GP}$"
   ]
  },
  {
   "cell_type": "markdown",
   "metadata": {},
   "source": [
    "Now that we've specified our **prior function model**, the next step is to sample the data. Updating our $\\mathcal{GP}$ model involves the following steps:\n",
    "\n",
    "1. Sample the data\n",
    "2. Integrate evidence into our prior using Bayes theorem to compute a **posterior distribution**\n",
    "\n",
    "We'll manually perform one evaluation by sampling $\\mathbf{x}_* \\sim \\mathcal{X}$, this yields the observation \n",
    "$(\\mathbf{x_*},f(\\mathbf{x_*}))$. For cleaniness let's denote the evalution $f(\\mathbf{x}_*)$ observation generated from new evidence as $\\mathbf{f_*}$"
   ]
  },
  {
   "cell_type": "code",
   "execution_count": 164,
   "metadata": {},
   "outputs": [
    {
     "name": "stdout",
     "output_type": "stream",
     "text": [
      "134.91589641046662 4.600227454524638\n"
     ]
    }
   ],
   "source": [
    "# Obtain a sample, generate a random sample (x,f(x))\n",
    "samp_x = np.random.uniform(low=0,high=150)\n",
    "samp_fx = true_func(samp_x)\n",
    "print(samp_x,samp_fx)"
   ]
  },
  {
   "cell_type": "markdown",
   "metadata": {},
   "source": [
    "### Bayes Theorem\n",
    "Recall **Bayes Theorem**:\n",
    "\n",
    "$$P(\\text{model} | \\text{observations}) = \n",
    "\\frac{ P(\\text{observations} | \\text{model}) P(\\text{model}) } \n",
    "{ P(\\text{observations})}$$\n",
    "\n",
    "In the context of $\\mathcal{GP}$, we state **Bayes theorem** as follows:\n",
    "\n",
    "$$\n",
    "P(\\mathbf{f}| X,X_*,\\mathbf{f_*},) = \\frac{P(\\mathbf{f_*},X_* | X, \\mathbf{f})P(\\mathbf{f} | X)}\n",
    "{P( X_*,\\mathbf{f}_* | X)}\n",
    "$$\n",
    "\n",
    "The posterior distribution is our function model $\\mathbf{f}$ conditioned on the current data we have witnessed $(X,X_*,\\mathbf{f_*})$"
   ]
  },
  {
   "cell_type": "markdown",
   "metadata": {},
   "source": [
    "### The predictive distribution\n",
    "\n",
    "Given a new sample and our current prior, we can calculate the *joint distribution* which is simply the prior distribution (a multivariate gaussian we defined earlier) multiplied by our likelihood function:\n",
    "\n",
    "$$P(\\mathbf{f},\\mathbf{f_*},X_*,X) = P( \\mathbf{f_*},X_* | X,\\mathbf{f})P(\\mathbf{f} | X)$$\n",
    "\n",
    "The *joint distribution* is *also a gaussian distribution* in the form of:\n",
    "\n",
    "$$\n",
    "\\left[\\begin{matrix} \n",
    "\\mathbf{f} \\\\\n",
    "\\mathbf{f_*}\n",
    "\\end{matrix}\\right] = \n",
    "\\mathcal{N}\\left(\\mathbf{0}, \n",
    "\\left[\\begin{matrix}\n",
    "K(X,\\mathbf{x}_*) & K(X,\\mathbf{x}_*) \\\\\n",
    "K(\\mathbf{x}_*,X) & K(\\mathbf{x}_*,\\mathbf{x}_*)\n",
    "\\end{matrix}\\right]\\right)\n",
    "$$\n",
    "\n",
    "Where $X$ is the prior distribution samples we generated, $\\mathbf{x}_*$ is value at which we sampled $\\mathcal{X}$. \n",
    "Therefore:\n",
    "- $K(X,X)$ is the covariance function between all prior distrbution points (we already had this!)\n",
    "- $K(X,\\mathbf{x}_*)=K(\\mathbf{x}_*,X)^T$ is the covariance function between the prior distribution points and the new sample\n",
    "- $K(\\mathbf{x}_*,\\mathbf{x}_*)$ is the covariance function between all new incoming points\n",
    "\n",
    "***\n",
    "**NOTE**: We could've sampled multiple new values to generate $X_*$, the computation will be exactly the same except we'd use the matrix form rather than a single vector $\\mathbf{x}_*$. Hereafter we'll just call $\\mathbf{x}_*$, $X_*$ for generalizability.\n",
    "***\n",
    "\n",
    "Finally, we need to compute the **posterior distribution** which requires us to divide the joint distribution by the **marginal**\n",
    "\n",
    "$$P(X_*,\\mathbf{f_*} | X) = \\int P(\\mathbf{f_*},X_* | X,\\mathbf{f})P(\\mathbf{f}|X)d\\mathbf{f}$$\n",
    "\n",
    "Conveniently, it turns out the **posterior distribution**, $\\mathbf{f} | X,X_*,\\mathbf{f_*}$, is *also a gaussian distribution* (gaussian $\\mathbf{f}$ conditioned on gaussian $(X,X_*,\\mathbf{f_*})$ is gaussian!) of form:\n",
    "\n",
    "$$\\mathbf{f} | X,X_*,\\mathbf{f_*} \\sim \n",
    "\\mathcal{N}(K(X_*,X)K(X,X)^{-1}\\mathbf{f},\n",
    "K(X_*,X_*) - K(X_*,X)K(X,X)^{-1}K*(X,X_*))$$\n",
    "\n",
    "\n",
    "The derivation of the above result is a well known exercise in bayesian statistics, numerous proofs are available all over the internet. It is *long, painful* and requires completing the square (which is a *pain*), but it is entirely doable!\n"
   ]
  },
  {
   "cell_type": "code",
   "execution_count": null,
   "metadata": {},
   "outputs": [],
   "source": []
  }
 ],
 "metadata": {
  "kernelspec": {
   "display_name": "Python 3",
   "language": "python",
   "name": "python3"
  },
  "language_info": {
   "codemirror_mode": {
    "name": "ipython",
    "version": 3
   },
   "file_extension": ".py",
   "mimetype": "text/x-python",
   "name": "python",
   "nbconvert_exporter": "python",
   "pygments_lexer": "ipython3",
   "version": "3.7.0"
  }
 },
 "nbformat": 4,
 "nbformat_minor": 2
}
